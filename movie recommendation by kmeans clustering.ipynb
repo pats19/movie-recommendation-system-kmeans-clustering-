{
 "cells": [
  {
   "cell_type": "code",
   "execution_count": 1,
   "id": "e9207ead",
   "metadata": {},
   "outputs": [],
   "source": [
    "import pandas as pd\n",
    "import numpy as np\n",
    "import matplotlib.pyplot as plt\n",
    "import seaborn as sns\n",
    "from sklearn import metrics\n",
    "from sklearn.cluster import KMeans\n",
    "from sklearn.preprocessing import LabelEncoder,MinMaxScaler,StandardScaler\n",
    "import random\n",
    "from factor_analyzer import FactorAnalyzer"
   ]
  },
  {
   "cell_type": "code",
   "execution_count": 2,
   "id": "7068d313",
   "metadata": {},
   "outputs": [],
   "source": [
    "movie = pd.read_csv(r\"C:\\Users\\91983\\Desktop\\PGA\\ml\\movie review\\movies data.csv\")\n",
    "ratings = pd.read_csv(r\"C:\\Users\\91983\\Desktop\\PGA\\ml\\movie review\\ratings data.csv\")"
   ]
  },
  {
   "cell_type": "code",
   "execution_count": 3,
   "id": "4941a1ae",
   "metadata": {},
   "outputs": [
    {
     "name": "stdout",
     "output_type": "stream",
     "text": [
      "ratings\n",
      "   Unnamed: 0  UserID  MovieID  Rating  Timestamp\n",
      "0           0       1     1193       5  978300760\n",
      "1           1       1      661       3  978302109\n",
      "2           2       1      914       3  978301968\n",
      "3           3       1     3408       4  978300275\n",
      "4           4       1     2355       5  978824291\n",
      "------------------------------------------------------------------------------------\n",
      "<class 'pandas.core.frame.DataFrame'>\n",
      "RangeIndex: 1000209 entries, 0 to 1000208\n",
      "Data columns (total 5 columns):\n",
      " #   Column      Non-Null Count    Dtype\n",
      "---  ------      --------------    -----\n",
      " 0   Unnamed: 0  1000209 non-null  int64\n",
      " 1   UserID      1000209 non-null  int64\n",
      " 2   MovieID     1000209 non-null  int64\n",
      " 3   Rating      1000209 non-null  int64\n",
      " 4   Timestamp   1000209 non-null  int64\n",
      "dtypes: int64(5)\n",
      "memory usage: 38.2 MB\n",
      "None\n",
      "------------------------------------------------------------------------------------\n",
      "Movie\n",
      "   Unnamed: 0  MovieID                               Title  \\\n",
      "0           0        1                    Toy Story (1995)   \n",
      "1           1        2                      Jumanji (1995)   \n",
      "2           2        3             Grumpier Old Men (1995)   \n",
      "3           3        4            Waiting to Exhale (1995)   \n",
      "4           4        5  Father of the Bride Part II (1995)   \n",
      "\n",
      "                         Genres  \n",
      "0   Animation|Children's|Comedy  \n",
      "1  Adventure|Children's|Fantasy  \n",
      "2                Comedy|Romance  \n",
      "3                  Comedy|Drama  \n",
      "4                        Comedy  \n",
      "------------------------------------------------------------------------------------\n",
      "<class 'pandas.core.frame.DataFrame'>\n",
      "RangeIndex: 3883 entries, 0 to 3882\n",
      "Data columns (total 4 columns):\n",
      " #   Column      Non-Null Count  Dtype \n",
      "---  ------      --------------  ----- \n",
      " 0   Unnamed: 0  3883 non-null   int64 \n",
      " 1   MovieID     3883 non-null   int64 \n",
      " 2   Title       3883 non-null   object\n",
      " 3   Genres      3883 non-null   object\n",
      "dtypes: int64(2), object(2)\n",
      "memory usage: 121.5+ KB\n",
      "None\n"
     ]
    }
   ],
   "source": [
    "print(\"ratings\")\n",
    "print(ratings.head())\n",
    "print(\"------------------------------------------------------------------------------------\")\n",
    "print(ratings.info())\n",
    "print(\"------------------------------------------------------------------------------------\")\n",
    "print(\"Movie\")\n",
    "print(movie.head())\n",
    "print(\"------------------------------------------------------------------------------------\")\n",
    "print(movie.info())"
   ]
  },
  {
   "cell_type": "code",
   "execution_count": 4,
   "id": "880b7471",
   "metadata": {},
   "outputs": [],
   "source": [
    "#dropping unnecessary columns\n",
    "movie.drop(\"Unnamed: 0\",axis=1,inplace=True)\n",
    "ratings.drop([\"Unnamed: 0\",\"Timestamp\"],axis=1,inplace=True)"
   ]
  },
  {
   "cell_type": "code",
   "execution_count": 5,
   "id": "09e6d1b2",
   "metadata": {},
   "outputs": [
    {
     "name": "stdout",
     "output_type": "stream",
     "text": [
      "Index(['MovieID', 'Title', 'Genres'], dtype='object')\n",
      "Index(['UserID', 'MovieID', 'Rating'], dtype='object')\n"
     ]
    }
   ],
   "source": [
    "print(movie.columns)\n",
    "print(ratings.columns)"
   ]
  },
  {
   "cell_type": "code",
   "execution_count": 6,
   "id": "6060efae",
   "metadata": {},
   "outputs": [
    {
     "data": {
      "text/plain": [
       "1000209"
      ]
     },
     "execution_count": 6,
     "metadata": {},
     "output_type": "execute_result"
    }
   ],
   "source": [
    "len(ratings)"
   ]
  },
  {
   "cell_type": "code",
   "execution_count": 7,
   "id": "ab342f9e",
   "metadata": {},
   "outputs": [
    {
     "data": {
      "text/plain": [
       "3883"
      ]
     },
     "execution_count": 7,
     "metadata": {},
     "output_type": "execute_result"
    }
   ],
   "source": [
    "len(movie)"
   ]
  },
  {
   "cell_type": "code",
   "execution_count": 8,
   "id": "d0e00cd5",
   "metadata": {},
   "outputs": [],
   "source": [
    "#merging df\n",
    "df = pd.merge(movie,ratings,how=\"outer\",on=\"MovieID\")"
   ]
  },
  {
   "cell_type": "code",
   "execution_count": 9,
   "id": "bab93ed1",
   "metadata": {},
   "outputs": [],
   "source": [
    "df = df.sample(10000)"
   ]
  },
  {
   "cell_type": "code",
   "execution_count": 10,
   "id": "36083248",
   "metadata": {},
   "outputs": [
    {
     "data": {
      "text/plain": [
       "10000"
      ]
     },
     "execution_count": 10,
     "metadata": {},
     "output_type": "execute_result"
    }
   ],
   "source": [
    "len(df)"
   ]
  },
  {
   "cell_type": "code",
   "execution_count": 11,
   "id": "4a5a2f00",
   "metadata": {
    "scrolled": true
   },
   "outputs": [
    {
     "data": {
      "text/html": [
       "<div>\n",
       "<style scoped>\n",
       "    .dataframe tbody tr th:only-of-type {\n",
       "        vertical-align: middle;\n",
       "    }\n",
       "\n",
       "    .dataframe tbody tr th {\n",
       "        vertical-align: top;\n",
       "    }\n",
       "\n",
       "    .dataframe thead th {\n",
       "        text-align: right;\n",
       "    }\n",
       "</style>\n",
       "<table border=\"1\" class=\"dataframe\">\n",
       "  <thead>\n",
       "    <tr style=\"text-align: right;\">\n",
       "      <th></th>\n",
       "      <th>MovieID</th>\n",
       "      <th>Title</th>\n",
       "      <th>Genres</th>\n",
       "      <th>UserID</th>\n",
       "      <th>Rating</th>\n",
       "    </tr>\n",
       "  </thead>\n",
       "  <tbody>\n",
       "    <tr>\n",
       "      <th>879429</th>\n",
       "      <td>3317</td>\n",
       "      <td>Wonder Boys (2000)</td>\n",
       "      <td>Comedy|Drama</td>\n",
       "      <td>5785.0</td>\n",
       "      <td>4.0</td>\n",
       "    </tr>\n",
       "    <tr>\n",
       "      <th>220648</th>\n",
       "      <td>912</td>\n",
       "      <td>Casablanca (1942)</td>\n",
       "      <td>Drama|Romance|War</td>\n",
       "      <td>3792.0</td>\n",
       "      <td>5.0</td>\n",
       "    </tr>\n",
       "    <tr>\n",
       "      <th>223309</th>\n",
       "      <td>915</td>\n",
       "      <td>Sabrina (1954)</td>\n",
       "      <td>Comedy|Romance</td>\n",
       "      <td>5501.0</td>\n",
       "      <td>3.0</td>\n",
       "    </tr>\n",
       "    <tr>\n",
       "      <th>613760</th>\n",
       "      <td>2275</td>\n",
       "      <td>Six-String Samurai (1998)</td>\n",
       "      <td>Action|Adventure|Sci-Fi</td>\n",
       "      <td>1395.0</td>\n",
       "      <td>4.0</td>\n",
       "    </tr>\n",
       "    <tr>\n",
       "      <th>758367</th>\n",
       "      <td>2801</td>\n",
       "      <td>Oscar and Lucinda (a.k.a. Oscar &amp; Lucinda) (1997)</td>\n",
       "      <td>Drama|Romance</td>\n",
       "      <td>5502.0</td>\n",
       "      <td>4.0</td>\n",
       "    </tr>\n",
       "  </tbody>\n",
       "</table>\n",
       "</div>"
      ],
      "text/plain": [
       "        MovieID                                              Title  \\\n",
       "879429     3317                                 Wonder Boys (2000)   \n",
       "220648      912                                  Casablanca (1942)   \n",
       "223309      915                                     Sabrina (1954)   \n",
       "613760     2275                          Six-String Samurai (1998)   \n",
       "758367     2801  Oscar and Lucinda (a.k.a. Oscar & Lucinda) (1997)   \n",
       "\n",
       "                         Genres  UserID  Rating  \n",
       "879429             Comedy|Drama  5785.0     4.0  \n",
       "220648        Drama|Romance|War  3792.0     5.0  \n",
       "223309           Comedy|Romance  5501.0     3.0  \n",
       "613760  Action|Adventure|Sci-Fi  1395.0     4.0  \n",
       "758367            Drama|Romance  5502.0     4.0  "
      ]
     },
     "execution_count": 11,
     "metadata": {},
     "output_type": "execute_result"
    }
   ],
   "source": [
    "df.head()"
   ]
  },
  {
   "cell_type": "code",
   "execution_count": 12,
   "id": "225e4794",
   "metadata": {},
   "outputs": [
    {
     "name": "stdout",
     "output_type": "stream",
     "text": [
      "<class 'pandas.core.frame.DataFrame'>\n",
      "Int64Index: 10000 entries, 879429 to 852886\n",
      "Data columns (total 5 columns):\n",
      " #   Column   Non-Null Count  Dtype  \n",
      "---  ------   --------------  -----  \n",
      " 0   MovieID  10000 non-null  int64  \n",
      " 1   Title    10000 non-null  object \n",
      " 2   Genres   10000 non-null  object \n",
      " 3   UserID   9999 non-null   float64\n",
      " 4   Rating   9999 non-null   float64\n",
      "dtypes: float64(2), int64(1), object(2)\n",
      "memory usage: 468.8+ KB\n"
     ]
    }
   ],
   "source": [
    "df.info()"
   ]
  },
  {
   "cell_type": "code",
   "execution_count": 13,
   "id": "959976d3",
   "metadata": {},
   "outputs": [
    {
     "data": {
      "text/plain": [
       "MovieID    0\n",
       "Title      0\n",
       "Genres     0\n",
       "UserID     1\n",
       "Rating     1\n",
       "dtype: int64"
      ]
     },
     "execution_count": 13,
     "metadata": {},
     "output_type": "execute_result"
    }
   ],
   "source": [
    "df.isnull().sum()"
   ]
  },
  {
   "cell_type": "code",
   "execution_count": 14,
   "id": "d6c03a12",
   "metadata": {},
   "outputs": [
    {
     "data": {
      "text/plain": [
       "284"
      ]
     },
     "execution_count": 14,
     "metadata": {},
     "output_type": "execute_result"
    }
   ],
   "source": [
    "len(df.Genres.value_counts())"
   ]
  },
  {
   "cell_type": "code",
   "execution_count": 15,
   "id": "f39c28b8",
   "metadata": {},
   "outputs": [
    {
     "data": {
      "text/plain": [
       "Drama                                              1103\n",
       "Comedy                                             1101\n",
       "Comedy|Drama                                        441\n",
       "Comedy|Romance                                      422\n",
       "Drama|Romance                                       317\n",
       "                                                   ... \n",
       "Children's|Comedy|Western                             1\n",
       "Adventure|Children's|Drama|Romance                    1\n",
       "Adventure|Animation|Children's|Comedy|Musical         1\n",
       "Action|Animation|Children's|Sci-Fi|Thriller|War       1\n",
       "Action|Adventure|Children's                           1\n",
       "Name: Genres, Length: 284, dtype: int64"
      ]
     },
     "execution_count": 15,
     "metadata": {},
     "output_type": "execute_result"
    }
   ],
   "source": [
    "df.Genres.value_counts()"
   ]
  },
  {
   "cell_type": "code",
   "execution_count": 16,
   "id": "8eb19bb8",
   "metadata": {},
   "outputs": [
    {
     "data": {
      "text/html": [
       "<div>\n",
       "<style scoped>\n",
       "    .dataframe tbody tr th:only-of-type {\n",
       "        vertical-align: middle;\n",
       "    }\n",
       "\n",
       "    .dataframe tbody tr th {\n",
       "        vertical-align: top;\n",
       "    }\n",
       "\n",
       "    .dataframe thead th {\n",
       "        text-align: right;\n",
       "    }\n",
       "</style>\n",
       "<table border=\"1\" class=\"dataframe\">\n",
       "  <thead>\n",
       "    <tr style=\"text-align: right;\">\n",
       "      <th></th>\n",
       "      <th>MovieID</th>\n",
       "      <th>Title</th>\n",
       "      <th>Genres</th>\n",
       "      <th>UserID</th>\n",
       "      <th>Rating</th>\n",
       "      <th>Comedy</th>\n",
       "      <th>Drama</th>\n",
       "      <th>Action</th>\n",
       "      <th>Musical</th>\n",
       "      <th>Adventure</th>\n",
       "      <th>...</th>\n",
       "      <th>Film-Noir</th>\n",
       "      <th>Horror</th>\n",
       "      <th>Romance</th>\n",
       "      <th>Thriller</th>\n",
       "      <th>Mystery</th>\n",
       "      <th>Sci-Fi</th>\n",
       "      <th>Western</th>\n",
       "      <th>War</th>\n",
       "      <th>Documentary</th>\n",
       "      <th>Fantasy</th>\n",
       "    </tr>\n",
       "  </thead>\n",
       "  <tbody>\n",
       "    <tr>\n",
       "      <th>879429</th>\n",
       "      <td>3317</td>\n",
       "      <td>Wonder Boys (2000)</td>\n",
       "      <td>Comedy|Drama</td>\n",
       "      <td>5785.0</td>\n",
       "      <td>4.0</td>\n",
       "      <td>0</td>\n",
       "      <td>0</td>\n",
       "      <td>0</td>\n",
       "      <td>0</td>\n",
       "      <td>0</td>\n",
       "      <td>...</td>\n",
       "      <td>0</td>\n",
       "      <td>0</td>\n",
       "      <td>0</td>\n",
       "      <td>0</td>\n",
       "      <td>0</td>\n",
       "      <td>0</td>\n",
       "      <td>0</td>\n",
       "      <td>0</td>\n",
       "      <td>0</td>\n",
       "      <td>0</td>\n",
       "    </tr>\n",
       "    <tr>\n",
       "      <th>220648</th>\n",
       "      <td>912</td>\n",
       "      <td>Casablanca (1942)</td>\n",
       "      <td>Drama|Romance|War</td>\n",
       "      <td>3792.0</td>\n",
       "      <td>5.0</td>\n",
       "      <td>0</td>\n",
       "      <td>0</td>\n",
       "      <td>0</td>\n",
       "      <td>0</td>\n",
       "      <td>0</td>\n",
       "      <td>...</td>\n",
       "      <td>0</td>\n",
       "      <td>0</td>\n",
       "      <td>0</td>\n",
       "      <td>0</td>\n",
       "      <td>0</td>\n",
       "      <td>0</td>\n",
       "      <td>0</td>\n",
       "      <td>0</td>\n",
       "      <td>0</td>\n",
       "      <td>0</td>\n",
       "    </tr>\n",
       "  </tbody>\n",
       "</table>\n",
       "<p>2 rows × 23 columns</p>\n",
       "</div>"
      ],
      "text/plain": [
       "        MovieID               Title             Genres  UserID  Rating  \\\n",
       "879429     3317  Wonder Boys (2000)       Comedy|Drama  5785.0     4.0   \n",
       "220648      912   Casablanca (1942)  Drama|Romance|War  3792.0     5.0   \n",
       "\n",
       "        Comedy  Drama  Action  Musical  Adventure  ...  Film-Noir  Horror  \\\n",
       "879429       0      0       0        0          0  ...          0       0   \n",
       "220648       0      0       0        0          0  ...          0       0   \n",
       "\n",
       "        Romance  Thriller  Mystery  Sci-Fi  Western  War  Documentary  Fantasy  \n",
       "879429        0         0        0       0        0    0            0        0  \n",
       "220648        0         0        0       0        0    0            0        0  \n",
       "\n",
       "[2 rows x 23 columns]"
      ]
     },
     "execution_count": 16,
     "metadata": {},
     "output_type": "execute_result"
    }
   ],
   "source": [
    "# Data Processing\n",
    "# Converting Genres into different columns \n",
    "# Here we just create columns and put there initial value as 0\n",
    "x = df.Genres\n",
    "a = list()\n",
    "for i in x:\n",
    "    abc = i\n",
    "    a.append(abc.split('|'))\n",
    "a = pd.DataFrame(a)   \n",
    "b = a[0].unique()\n",
    "for i in b:\n",
    "    df[i] = 0\n",
    "df.head(2)"
   ]
  },
  {
   "cell_type": "code",
   "execution_count": 17,
   "id": "f08cf511",
   "metadata": {},
   "outputs": [],
   "source": [
    "# we assign 1 to all the columns which are present in the Genres\n",
    "for i in b:\n",
    "    df.loc[df['Genres'].str.contains(i), i] = 1"
   ]
  },
  {
   "cell_type": "code",
   "execution_count": 18,
   "id": "a753cba9",
   "metadata": {},
   "outputs": [
    {
     "data": {
      "text/html": [
       "<div>\n",
       "<style scoped>\n",
       "    .dataframe tbody tr th:only-of-type {\n",
       "        vertical-align: middle;\n",
       "    }\n",
       "\n",
       "    .dataframe tbody tr th {\n",
       "        vertical-align: top;\n",
       "    }\n",
       "\n",
       "    .dataframe thead th {\n",
       "        text-align: right;\n",
       "    }\n",
       "</style>\n",
       "<table border=\"1\" class=\"dataframe\">\n",
       "  <thead>\n",
       "    <tr style=\"text-align: right;\">\n",
       "      <th></th>\n",
       "      <th>MovieID</th>\n",
       "      <th>Title</th>\n",
       "      <th>Genres</th>\n",
       "      <th>UserID</th>\n",
       "      <th>Rating</th>\n",
       "      <th>Comedy</th>\n",
       "      <th>Drama</th>\n",
       "      <th>Action</th>\n",
       "      <th>Musical</th>\n",
       "      <th>Adventure</th>\n",
       "      <th>...</th>\n",
       "      <th>Film-Noir</th>\n",
       "      <th>Horror</th>\n",
       "      <th>Romance</th>\n",
       "      <th>Thriller</th>\n",
       "      <th>Mystery</th>\n",
       "      <th>Sci-Fi</th>\n",
       "      <th>Western</th>\n",
       "      <th>War</th>\n",
       "      <th>Documentary</th>\n",
       "      <th>Fantasy</th>\n",
       "    </tr>\n",
       "  </thead>\n",
       "  <tbody>\n",
       "    <tr>\n",
       "      <th>879429</th>\n",
       "      <td>3317</td>\n",
       "      <td>Wonder Boys (2000)</td>\n",
       "      <td>Comedy|Drama</td>\n",
       "      <td>5785.0</td>\n",
       "      <td>4.0</td>\n",
       "      <td>1</td>\n",
       "      <td>1</td>\n",
       "      <td>0</td>\n",
       "      <td>0</td>\n",
       "      <td>0</td>\n",
       "      <td>...</td>\n",
       "      <td>0</td>\n",
       "      <td>0</td>\n",
       "      <td>0</td>\n",
       "      <td>0</td>\n",
       "      <td>0</td>\n",
       "      <td>0</td>\n",
       "      <td>0</td>\n",
       "      <td>0</td>\n",
       "      <td>0</td>\n",
       "      <td>0</td>\n",
       "    </tr>\n",
       "    <tr>\n",
       "      <th>220648</th>\n",
       "      <td>912</td>\n",
       "      <td>Casablanca (1942)</td>\n",
       "      <td>Drama|Romance|War</td>\n",
       "      <td>3792.0</td>\n",
       "      <td>5.0</td>\n",
       "      <td>0</td>\n",
       "      <td>1</td>\n",
       "      <td>0</td>\n",
       "      <td>0</td>\n",
       "      <td>0</td>\n",
       "      <td>...</td>\n",
       "      <td>0</td>\n",
       "      <td>0</td>\n",
       "      <td>1</td>\n",
       "      <td>0</td>\n",
       "      <td>0</td>\n",
       "      <td>0</td>\n",
       "      <td>0</td>\n",
       "      <td>1</td>\n",
       "      <td>0</td>\n",
       "      <td>0</td>\n",
       "    </tr>\n",
       "    <tr>\n",
       "      <th>223309</th>\n",
       "      <td>915</td>\n",
       "      <td>Sabrina (1954)</td>\n",
       "      <td>Comedy|Romance</td>\n",
       "      <td>5501.0</td>\n",
       "      <td>3.0</td>\n",
       "      <td>1</td>\n",
       "      <td>0</td>\n",
       "      <td>0</td>\n",
       "      <td>0</td>\n",
       "      <td>0</td>\n",
       "      <td>...</td>\n",
       "      <td>0</td>\n",
       "      <td>0</td>\n",
       "      <td>1</td>\n",
       "      <td>0</td>\n",
       "      <td>0</td>\n",
       "      <td>0</td>\n",
       "      <td>0</td>\n",
       "      <td>0</td>\n",
       "      <td>0</td>\n",
       "      <td>0</td>\n",
       "    </tr>\n",
       "    <tr>\n",
       "      <th>613760</th>\n",
       "      <td>2275</td>\n",
       "      <td>Six-String Samurai (1998)</td>\n",
       "      <td>Action|Adventure|Sci-Fi</td>\n",
       "      <td>1395.0</td>\n",
       "      <td>4.0</td>\n",
       "      <td>0</td>\n",
       "      <td>0</td>\n",
       "      <td>1</td>\n",
       "      <td>0</td>\n",
       "      <td>1</td>\n",
       "      <td>...</td>\n",
       "      <td>0</td>\n",
       "      <td>0</td>\n",
       "      <td>0</td>\n",
       "      <td>0</td>\n",
       "      <td>0</td>\n",
       "      <td>1</td>\n",
       "      <td>0</td>\n",
       "      <td>0</td>\n",
       "      <td>0</td>\n",
       "      <td>0</td>\n",
       "    </tr>\n",
       "    <tr>\n",
       "      <th>758367</th>\n",
       "      <td>2801</td>\n",
       "      <td>Oscar and Lucinda (a.k.a. Oscar &amp; Lucinda) (1997)</td>\n",
       "      <td>Drama|Romance</td>\n",
       "      <td>5502.0</td>\n",
       "      <td>4.0</td>\n",
       "      <td>0</td>\n",
       "      <td>1</td>\n",
       "      <td>0</td>\n",
       "      <td>0</td>\n",
       "      <td>0</td>\n",
       "      <td>...</td>\n",
       "      <td>0</td>\n",
       "      <td>0</td>\n",
       "      <td>1</td>\n",
       "      <td>0</td>\n",
       "      <td>0</td>\n",
       "      <td>0</td>\n",
       "      <td>0</td>\n",
       "      <td>0</td>\n",
       "      <td>0</td>\n",
       "      <td>0</td>\n",
       "    </tr>\n",
       "  </tbody>\n",
       "</table>\n",
       "<p>5 rows × 23 columns</p>\n",
       "</div>"
      ],
      "text/plain": [
       "        MovieID                                              Title  \\\n",
       "879429     3317                                 Wonder Boys (2000)   \n",
       "220648      912                                  Casablanca (1942)   \n",
       "223309      915                                     Sabrina (1954)   \n",
       "613760     2275                          Six-String Samurai (1998)   \n",
       "758367     2801  Oscar and Lucinda (a.k.a. Oscar & Lucinda) (1997)   \n",
       "\n",
       "                         Genres  UserID  Rating  Comedy  Drama  Action  \\\n",
       "879429             Comedy|Drama  5785.0     4.0       1      1       0   \n",
       "220648        Drama|Romance|War  3792.0     5.0       0      1       0   \n",
       "223309           Comedy|Romance  5501.0     3.0       1      0       0   \n",
       "613760  Action|Adventure|Sci-Fi  1395.0     4.0       0      0       1   \n",
       "758367            Drama|Romance  5502.0     4.0       0      1       0   \n",
       "\n",
       "        Musical  Adventure  ...  Film-Noir  Horror  Romance  Thriller  \\\n",
       "879429        0          0  ...          0       0        0         0   \n",
       "220648        0          0  ...          0       0        1         0   \n",
       "223309        0          0  ...          0       0        1         0   \n",
       "613760        0          1  ...          0       0        0         0   \n",
       "758367        0          0  ...          0       0        1         0   \n",
       "\n",
       "        Mystery  Sci-Fi  Western  War  Documentary  Fantasy  \n",
       "879429        0       0        0    0            0        0  \n",
       "220648        0       0        0    1            0        0  \n",
       "223309        0       0        0    0            0        0  \n",
       "613760        0       1        0    0            0        0  \n",
       "758367        0       0        0    0            0        0  \n",
       "\n",
       "[5 rows x 23 columns]"
      ]
     },
     "execution_count": 18,
     "metadata": {},
     "output_type": "execute_result"
    }
   ],
   "source": [
    "df.head()"
   ]
  },
  {
   "cell_type": "code",
   "execution_count": 19,
   "id": "ea6df992",
   "metadata": {},
   "outputs": [],
   "source": [
    "df.drop([\"Genres\",\"Title\"],axis =1,inplace=True)"
   ]
  },
  {
   "cell_type": "code",
   "execution_count": 20,
   "id": "fad78309",
   "metadata": {},
   "outputs": [
    {
     "data": {
      "text/html": [
       "<div>\n",
       "<style scoped>\n",
       "    .dataframe tbody tr th:only-of-type {\n",
       "        vertical-align: middle;\n",
       "    }\n",
       "\n",
       "    .dataframe tbody tr th {\n",
       "        vertical-align: top;\n",
       "    }\n",
       "\n",
       "    .dataframe thead th {\n",
       "        text-align: right;\n",
       "    }\n",
       "</style>\n",
       "<table border=\"1\" class=\"dataframe\">\n",
       "  <thead>\n",
       "    <tr style=\"text-align: right;\">\n",
       "      <th></th>\n",
       "      <th>MovieID</th>\n",
       "      <th>UserID</th>\n",
       "      <th>Rating</th>\n",
       "      <th>Comedy</th>\n",
       "      <th>Drama</th>\n",
       "      <th>Action</th>\n",
       "      <th>Musical</th>\n",
       "      <th>Adventure</th>\n",
       "      <th>Children's</th>\n",
       "      <th>Animation</th>\n",
       "      <th>...</th>\n",
       "      <th>Film-Noir</th>\n",
       "      <th>Horror</th>\n",
       "      <th>Romance</th>\n",
       "      <th>Thriller</th>\n",
       "      <th>Mystery</th>\n",
       "      <th>Sci-Fi</th>\n",
       "      <th>Western</th>\n",
       "      <th>War</th>\n",
       "      <th>Documentary</th>\n",
       "      <th>Fantasy</th>\n",
       "    </tr>\n",
       "  </thead>\n",
       "  <tbody>\n",
       "    <tr>\n",
       "      <th>879429</th>\n",
       "      <td>3317</td>\n",
       "      <td>5785.0</td>\n",
       "      <td>4.0</td>\n",
       "      <td>1</td>\n",
       "      <td>1</td>\n",
       "      <td>0</td>\n",
       "      <td>0</td>\n",
       "      <td>0</td>\n",
       "      <td>0</td>\n",
       "      <td>0</td>\n",
       "      <td>...</td>\n",
       "      <td>0</td>\n",
       "      <td>0</td>\n",
       "      <td>0</td>\n",
       "      <td>0</td>\n",
       "      <td>0</td>\n",
       "      <td>0</td>\n",
       "      <td>0</td>\n",
       "      <td>0</td>\n",
       "      <td>0</td>\n",
       "      <td>0</td>\n",
       "    </tr>\n",
       "    <tr>\n",
       "      <th>220648</th>\n",
       "      <td>912</td>\n",
       "      <td>3792.0</td>\n",
       "      <td>5.0</td>\n",
       "      <td>0</td>\n",
       "      <td>1</td>\n",
       "      <td>0</td>\n",
       "      <td>0</td>\n",
       "      <td>0</td>\n",
       "      <td>0</td>\n",
       "      <td>0</td>\n",
       "      <td>...</td>\n",
       "      <td>0</td>\n",
       "      <td>0</td>\n",
       "      <td>1</td>\n",
       "      <td>0</td>\n",
       "      <td>0</td>\n",
       "      <td>0</td>\n",
       "      <td>0</td>\n",
       "      <td>1</td>\n",
       "      <td>0</td>\n",
       "      <td>0</td>\n",
       "    </tr>\n",
       "    <tr>\n",
       "      <th>223309</th>\n",
       "      <td>915</td>\n",
       "      <td>5501.0</td>\n",
       "      <td>3.0</td>\n",
       "      <td>1</td>\n",
       "      <td>0</td>\n",
       "      <td>0</td>\n",
       "      <td>0</td>\n",
       "      <td>0</td>\n",
       "      <td>0</td>\n",
       "      <td>0</td>\n",
       "      <td>...</td>\n",
       "      <td>0</td>\n",
       "      <td>0</td>\n",
       "      <td>1</td>\n",
       "      <td>0</td>\n",
       "      <td>0</td>\n",
       "      <td>0</td>\n",
       "      <td>0</td>\n",
       "      <td>0</td>\n",
       "      <td>0</td>\n",
       "      <td>0</td>\n",
       "    </tr>\n",
       "    <tr>\n",
       "      <th>613760</th>\n",
       "      <td>2275</td>\n",
       "      <td>1395.0</td>\n",
       "      <td>4.0</td>\n",
       "      <td>0</td>\n",
       "      <td>0</td>\n",
       "      <td>1</td>\n",
       "      <td>0</td>\n",
       "      <td>1</td>\n",
       "      <td>0</td>\n",
       "      <td>0</td>\n",
       "      <td>...</td>\n",
       "      <td>0</td>\n",
       "      <td>0</td>\n",
       "      <td>0</td>\n",
       "      <td>0</td>\n",
       "      <td>0</td>\n",
       "      <td>1</td>\n",
       "      <td>0</td>\n",
       "      <td>0</td>\n",
       "      <td>0</td>\n",
       "      <td>0</td>\n",
       "    </tr>\n",
       "    <tr>\n",
       "      <th>758367</th>\n",
       "      <td>2801</td>\n",
       "      <td>5502.0</td>\n",
       "      <td>4.0</td>\n",
       "      <td>0</td>\n",
       "      <td>1</td>\n",
       "      <td>0</td>\n",
       "      <td>0</td>\n",
       "      <td>0</td>\n",
       "      <td>0</td>\n",
       "      <td>0</td>\n",
       "      <td>...</td>\n",
       "      <td>0</td>\n",
       "      <td>0</td>\n",
       "      <td>1</td>\n",
       "      <td>0</td>\n",
       "      <td>0</td>\n",
       "      <td>0</td>\n",
       "      <td>0</td>\n",
       "      <td>0</td>\n",
       "      <td>0</td>\n",
       "      <td>0</td>\n",
       "    </tr>\n",
       "  </tbody>\n",
       "</table>\n",
       "<p>5 rows × 21 columns</p>\n",
       "</div>"
      ],
      "text/plain": [
       "        MovieID  UserID  Rating  Comedy  Drama  Action  Musical  Adventure  \\\n",
       "879429     3317  5785.0     4.0       1      1       0        0          0   \n",
       "220648      912  3792.0     5.0       0      1       0        0          0   \n",
       "223309      915  5501.0     3.0       1      0       0        0          0   \n",
       "613760     2275  1395.0     4.0       0      0       1        0          1   \n",
       "758367     2801  5502.0     4.0       0      1       0        0          0   \n",
       "\n",
       "        Children's  Animation  ...  Film-Noir  Horror  Romance  Thriller  \\\n",
       "879429           0          0  ...          0       0        0         0   \n",
       "220648           0          0  ...          0       0        1         0   \n",
       "223309           0          0  ...          0       0        1         0   \n",
       "613760           0          0  ...          0       0        0         0   \n",
       "758367           0          0  ...          0       0        1         0   \n",
       "\n",
       "        Mystery  Sci-Fi  Western  War  Documentary  Fantasy  \n",
       "879429        0       0        0    0            0        0  \n",
       "220648        0       0        0    1            0        0  \n",
       "223309        0       0        0    0            0        0  \n",
       "613760        0       1        0    0            0        0  \n",
       "758367        0       0        0    0            0        0  \n",
       "\n",
       "[5 rows x 21 columns]"
      ]
     },
     "execution_count": 20,
     "metadata": {},
     "output_type": "execute_result"
    }
   ],
   "source": [
    "df.head()"
   ]
  },
  {
   "cell_type": "code",
   "execution_count": 21,
   "id": "3eec0936",
   "metadata": {},
   "outputs": [
    {
     "data": {
      "text/plain": [
       "MovieID        0\n",
       "UserID         1\n",
       "Rating         1\n",
       "Comedy         0\n",
       "Drama          0\n",
       "Action         0\n",
       "Musical        0\n",
       "Adventure      0\n",
       "Children's     0\n",
       "Animation      0\n",
       "Crime          0\n",
       "Film-Noir      0\n",
       "Horror         0\n",
       "Romance        0\n",
       "Thriller       0\n",
       "Mystery        0\n",
       "Sci-Fi         0\n",
       "Western        0\n",
       "War            0\n",
       "Documentary    0\n",
       "Fantasy        0\n",
       "dtype: int64"
      ]
     },
     "execution_count": 21,
     "metadata": {},
     "output_type": "execute_result"
    }
   ],
   "source": [
    "df.isnull().sum()"
   ]
  },
  {
   "cell_type": "code",
   "execution_count": 22,
   "id": "44f657a4",
   "metadata": {},
   "outputs": [],
   "source": [
    "df.dropna(inplace=True)"
   ]
  },
  {
   "cell_type": "code",
   "execution_count": 23,
   "id": "06880e9e",
   "metadata": {},
   "outputs": [
    {
     "data": {
      "text/plain": [
       "MovieID        0\n",
       "UserID         0\n",
       "Rating         0\n",
       "Comedy         0\n",
       "Drama          0\n",
       "Action         0\n",
       "Musical        0\n",
       "Adventure      0\n",
       "Children's     0\n",
       "Animation      0\n",
       "Crime          0\n",
       "Film-Noir      0\n",
       "Horror         0\n",
       "Romance        0\n",
       "Thriller       0\n",
       "Mystery        0\n",
       "Sci-Fi         0\n",
       "Western        0\n",
       "War            0\n",
       "Documentary    0\n",
       "Fantasy        0\n",
       "dtype: int64"
      ]
     },
     "execution_count": 23,
     "metadata": {},
     "output_type": "execute_result"
    }
   ],
   "source": [
    "df.isnull().sum()"
   ]
  },
  {
   "cell_type": "code",
   "execution_count": 24,
   "id": "6a9c8445",
   "metadata": {},
   "outputs": [
    {
     "data": {
      "text/html": [
       "<div>\n",
       "<style scoped>\n",
       "    .dataframe tbody tr th:only-of-type {\n",
       "        vertical-align: middle;\n",
       "    }\n",
       "\n",
       "    .dataframe tbody tr th {\n",
       "        vertical-align: top;\n",
       "    }\n",
       "\n",
       "    .dataframe thead th {\n",
       "        text-align: right;\n",
       "    }\n",
       "</style>\n",
       "<table border=\"1\" class=\"dataframe\">\n",
       "  <thead>\n",
       "    <tr style=\"text-align: right;\">\n",
       "      <th></th>\n",
       "      <th>MovieID</th>\n",
       "      <th>UserID</th>\n",
       "      <th>Rating</th>\n",
       "      <th>Comedy</th>\n",
       "      <th>Drama</th>\n",
       "      <th>Action</th>\n",
       "      <th>Musical</th>\n",
       "      <th>Adventure</th>\n",
       "      <th>Children's</th>\n",
       "      <th>Animation</th>\n",
       "      <th>...</th>\n",
       "      <th>Film-Noir</th>\n",
       "      <th>Horror</th>\n",
       "      <th>Romance</th>\n",
       "      <th>Thriller</th>\n",
       "      <th>Mystery</th>\n",
       "      <th>Sci-Fi</th>\n",
       "      <th>Western</th>\n",
       "      <th>War</th>\n",
       "      <th>Documentary</th>\n",
       "      <th>Fantasy</th>\n",
       "    </tr>\n",
       "  </thead>\n",
       "  <tbody>\n",
       "    <tr>\n",
       "      <th>879429</th>\n",
       "      <td>3317</td>\n",
       "      <td>5785.0</td>\n",
       "      <td>4.0</td>\n",
       "      <td>1</td>\n",
       "      <td>1</td>\n",
       "      <td>0</td>\n",
       "      <td>0</td>\n",
       "      <td>0</td>\n",
       "      <td>0</td>\n",
       "      <td>0</td>\n",
       "      <td>...</td>\n",
       "      <td>0</td>\n",
       "      <td>0</td>\n",
       "      <td>0</td>\n",
       "      <td>0</td>\n",
       "      <td>0</td>\n",
       "      <td>0</td>\n",
       "      <td>0</td>\n",
       "      <td>0</td>\n",
       "      <td>0</td>\n",
       "      <td>0</td>\n",
       "    </tr>\n",
       "    <tr>\n",
       "      <th>220648</th>\n",
       "      <td>912</td>\n",
       "      <td>3792.0</td>\n",
       "      <td>5.0</td>\n",
       "      <td>0</td>\n",
       "      <td>1</td>\n",
       "      <td>0</td>\n",
       "      <td>0</td>\n",
       "      <td>0</td>\n",
       "      <td>0</td>\n",
       "      <td>0</td>\n",
       "      <td>...</td>\n",
       "      <td>0</td>\n",
       "      <td>0</td>\n",
       "      <td>1</td>\n",
       "      <td>0</td>\n",
       "      <td>0</td>\n",
       "      <td>0</td>\n",
       "      <td>0</td>\n",
       "      <td>1</td>\n",
       "      <td>0</td>\n",
       "      <td>0</td>\n",
       "    </tr>\n",
       "    <tr>\n",
       "      <th>223309</th>\n",
       "      <td>915</td>\n",
       "      <td>5501.0</td>\n",
       "      <td>3.0</td>\n",
       "      <td>1</td>\n",
       "      <td>0</td>\n",
       "      <td>0</td>\n",
       "      <td>0</td>\n",
       "      <td>0</td>\n",
       "      <td>0</td>\n",
       "      <td>0</td>\n",
       "      <td>...</td>\n",
       "      <td>0</td>\n",
       "      <td>0</td>\n",
       "      <td>1</td>\n",
       "      <td>0</td>\n",
       "      <td>0</td>\n",
       "      <td>0</td>\n",
       "      <td>0</td>\n",
       "      <td>0</td>\n",
       "      <td>0</td>\n",
       "      <td>0</td>\n",
       "    </tr>\n",
       "    <tr>\n",
       "      <th>613760</th>\n",
       "      <td>2275</td>\n",
       "      <td>1395.0</td>\n",
       "      <td>4.0</td>\n",
       "      <td>0</td>\n",
       "      <td>0</td>\n",
       "      <td>1</td>\n",
       "      <td>0</td>\n",
       "      <td>1</td>\n",
       "      <td>0</td>\n",
       "      <td>0</td>\n",
       "      <td>...</td>\n",
       "      <td>0</td>\n",
       "      <td>0</td>\n",
       "      <td>0</td>\n",
       "      <td>0</td>\n",
       "      <td>0</td>\n",
       "      <td>1</td>\n",
       "      <td>0</td>\n",
       "      <td>0</td>\n",
       "      <td>0</td>\n",
       "      <td>0</td>\n",
       "    </tr>\n",
       "    <tr>\n",
       "      <th>758367</th>\n",
       "      <td>2801</td>\n",
       "      <td>5502.0</td>\n",
       "      <td>4.0</td>\n",
       "      <td>0</td>\n",
       "      <td>1</td>\n",
       "      <td>0</td>\n",
       "      <td>0</td>\n",
       "      <td>0</td>\n",
       "      <td>0</td>\n",
       "      <td>0</td>\n",
       "      <td>...</td>\n",
       "      <td>0</td>\n",
       "      <td>0</td>\n",
       "      <td>1</td>\n",
       "      <td>0</td>\n",
       "      <td>0</td>\n",
       "      <td>0</td>\n",
       "      <td>0</td>\n",
       "      <td>0</td>\n",
       "      <td>0</td>\n",
       "      <td>0</td>\n",
       "    </tr>\n",
       "  </tbody>\n",
       "</table>\n",
       "<p>5 rows × 21 columns</p>\n",
       "</div>"
      ],
      "text/plain": [
       "        MovieID  UserID  Rating  Comedy  Drama  Action  Musical  Adventure  \\\n",
       "879429     3317  5785.0     4.0       1      1       0        0          0   \n",
       "220648      912  3792.0     5.0       0      1       0        0          0   \n",
       "223309      915  5501.0     3.0       1      0       0        0          0   \n",
       "613760     2275  1395.0     4.0       0      0       1        0          1   \n",
       "758367     2801  5502.0     4.0       0      1       0        0          0   \n",
       "\n",
       "        Children's  Animation  ...  Film-Noir  Horror  Romance  Thriller  \\\n",
       "879429           0          0  ...          0       0        0         0   \n",
       "220648           0          0  ...          0       0        1         0   \n",
       "223309           0          0  ...          0       0        1         0   \n",
       "613760           0          0  ...          0       0        0         0   \n",
       "758367           0          0  ...          0       0        1         0   \n",
       "\n",
       "        Mystery  Sci-Fi  Western  War  Documentary  Fantasy  \n",
       "879429        0       0        0    0            0        0  \n",
       "220648        0       0        0    1            0        0  \n",
       "223309        0       0        0    0            0        0  \n",
       "613760        0       1        0    0            0        0  \n",
       "758367        0       0        0    0            0        0  \n",
       "\n",
       "[5 rows x 21 columns]"
      ]
     },
     "execution_count": 24,
     "metadata": {},
     "output_type": "execute_result"
    }
   ],
   "source": [
    "df.head()"
   ]
  },
  {
   "cell_type": "code",
   "execution_count": 25,
   "id": "4e142ad7",
   "metadata": {},
   "outputs": [
    {
     "data": {
      "text/plain": [
       "KMeans(n_clusters=20)"
      ]
     },
     "execution_count": 25,
     "metadata": {},
     "output_type": "execute_result"
    }
   ],
   "source": [
    "kmeans = KMeans(20)\n",
    "kmeans.fit(df)"
   ]
  },
  {
   "cell_type": "code",
   "execution_count": 26,
   "id": "41e1b247",
   "metadata": {
    "scrolled": true
   },
   "outputs": [
    {
     "data": {
      "text/plain": [
       "1909022978.1683273"
      ]
     },
     "execution_count": 26,
     "metadata": {},
     "output_type": "execute_result"
    }
   ],
   "source": [
    "kmeans.inertia_"
   ]
  },
  {
   "cell_type": "code",
   "execution_count": 27,
   "id": "5be8386c",
   "metadata": {},
   "outputs": [],
   "source": [
    "from sklearn.metrics import silhouette_score"
   ]
  },
  {
   "cell_type": "code",
   "execution_count": 28,
   "id": "23e96414",
   "metadata": {},
   "outputs": [],
   "source": [
    "inertia=[]\n",
    "sil_score =[]\n",
    "for i in range(2,10):\n",
    "    kmeans = KMeans(i)\n",
    "    kmeans.fit(df)\n",
    "    labels = kmeans.predict(df)\n",
    "    iner_iter = kmeans.inertia_\n",
    "    inertia.append(iner_iter)\n",
    "    sil_score.append(silhouette_score(df,labels))"
   ]
  },
  {
   "cell_type": "code",
   "execution_count": 29,
   "id": "f01f6c84",
   "metadata": {
    "scrolled": true
   },
   "outputs": [
    {
     "data": {
      "text/plain": [
       "<matplotlib.collections.PathCollection at 0x28248450c10>"
      ]
     },
     "execution_count": 29,
     "metadata": {},
     "output_type": "execute_result"
    },
    {
     "data": {
      "image/png": "[encoded data removed]",
      "text/plain": [
       "<Figure size 432x288 with 1 Axes>"
      ]
     },
     "metadata": {
      "needs_background": "light"
     },
     "output_type": "display_data"
    }
   ],
   "source": [
    "number_clusters = range(2,10)\n",
    "plt.plot(number_clusters,inertia)\n",
    "plt.scatter(number_clusters,inertia)"
   ]
  },
  {
   "cell_type": "code",
   "execution_count": 30,
   "id": "3bf3665c",
   "metadata": {
    "scrolled": true
   },
   "outputs": [
    {
     "data": {
      "text/plain": [
       "<matplotlib.collections.PathCollection at 0x28200062b20>"
      ]
     },
     "execution_count": 30,
     "metadata": {},
     "output_type": "execute_result"
    },
    {
     "data": {
      "image/png": "[encoded data removed]",
      "text/plain": [
       "<Figure size 432x288 with 1 Axes>"
      ]
     },
     "metadata": {
      "needs_background": "light"
     },
     "output_type": "display_data"
    }
   ],
   "source": [
    "number_clusters = range(2,10)\n",
    "plt.plot(number_clusters,sil_score)\n",
    "plt.scatter(number_clusters,sil_score)"
   ]
  },
  {
   "cell_type": "code",
   "execution_count": 31,
   "id": "933bf1e9",
   "metadata": {},
   "outputs": [],
   "source": [
    "# so by elbow method by analyzing inertia and crosschecking sil score it is safe to say that our the optimum number of \n",
    "# clusters for this model is 5"
   ]
  },
  {
   "cell_type": "code",
   "execution_count": 32,
   "id": "549749d2",
   "metadata": {},
   "outputs": [
    {
     "data": {
      "text/plain": [
       "KMeans(n_clusters=5)"
      ]
     },
     "execution_count": 32,
     "metadata": {},
     "output_type": "execute_result"
    }
   ],
   "source": [
    "kmeans = KMeans(5)\n",
    "kmeans.fit(df)"
   ]
  },
  {
   "cell_type": "code",
   "execution_count": 33,
   "id": "6a1c2619",
   "metadata": {},
   "outputs": [
    {
     "data": {
      "text/plain": [
       "array([2, 3, 0, ..., 0, 2, 2])"
      ]
     },
     "execution_count": 33,
     "metadata": {},
     "output_type": "execute_result"
    }
   ],
   "source": [
    "kmeans.labels_"
   ]
  },
  {
   "cell_type": "code",
   "execution_count": 34,
   "id": "c4b082d8",
   "metadata": {},
   "outputs": [
    {
     "data": {
      "text/plain": [
       "array([3, 1, 2, ..., 2, 3, 3])"
      ]
     },
     "execution_count": 34,
     "metadata": {},
     "output_type": "execute_result"
    }
   ],
   "source": [
    "kmeans.fit_predict(df)"
   ]
  },
  {
   "cell_type": "code",
   "execution_count": 35,
   "id": "3ee5fc5e",
   "metadata": {},
   "outputs": [],
   "source": [
    "df['Cluster'] = kmeans.labels_"
   ]
  },
  {
   "cell_type": "code",
   "execution_count": 36,
   "id": "a75430d7",
   "metadata": {},
   "outputs": [
    {
     "data": {
      "text/html": [
       "<div>\n",
       "<style scoped>\n",
       "    .dataframe tbody tr th:only-of-type {\n",
       "        vertical-align: middle;\n",
       "    }\n",
       "\n",
       "    .dataframe tbody tr th {\n",
       "        vertical-align: top;\n",
       "    }\n",
       "\n",
       "    .dataframe thead th {\n",
       "        text-align: right;\n",
       "    }\n",
       "</style>\n",
       "<table border=\"1\" class=\"dataframe\">\n",
       "  <thead>\n",
       "    <tr style=\"text-align: right;\">\n",
       "      <th></th>\n",
       "      <th>MovieID</th>\n",
       "      <th>UserID</th>\n",
       "      <th>Rating</th>\n",
       "      <th>Comedy</th>\n",
       "      <th>Drama</th>\n",
       "      <th>Action</th>\n",
       "      <th>Musical</th>\n",
       "      <th>Adventure</th>\n",
       "      <th>Children's</th>\n",
       "      <th>Animation</th>\n",
       "      <th>...</th>\n",
       "      <th>Horror</th>\n",
       "      <th>Romance</th>\n",
       "      <th>Thriller</th>\n",
       "      <th>Mystery</th>\n",
       "      <th>Sci-Fi</th>\n",
       "      <th>Western</th>\n",
       "      <th>War</th>\n",
       "      <th>Documentary</th>\n",
       "      <th>Fantasy</th>\n",
       "      <th>Cluster</th>\n",
       "    </tr>\n",
       "  </thead>\n",
       "  <tbody>\n",
       "    <tr>\n",
       "      <th>879429</th>\n",
       "      <td>3317</td>\n",
       "      <td>5785.0</td>\n",
       "      <td>4.0</td>\n",
       "      <td>1</td>\n",
       "      <td>1</td>\n",
       "      <td>0</td>\n",
       "      <td>0</td>\n",
       "      <td>0</td>\n",
       "      <td>0</td>\n",
       "      <td>0</td>\n",
       "      <td>...</td>\n",
       "      <td>0</td>\n",
       "      <td>0</td>\n",
       "      <td>0</td>\n",
       "      <td>0</td>\n",
       "      <td>0</td>\n",
       "      <td>0</td>\n",
       "      <td>0</td>\n",
       "      <td>0</td>\n",
       "      <td>0</td>\n",
       "      <td>3</td>\n",
       "    </tr>\n",
       "    <tr>\n",
       "      <th>220648</th>\n",
       "      <td>912</td>\n",
       "      <td>3792.0</td>\n",
       "      <td>5.0</td>\n",
       "      <td>0</td>\n",
       "      <td>1</td>\n",
       "      <td>0</td>\n",
       "      <td>0</td>\n",
       "      <td>0</td>\n",
       "      <td>0</td>\n",
       "      <td>0</td>\n",
       "      <td>...</td>\n",
       "      <td>0</td>\n",
       "      <td>1</td>\n",
       "      <td>0</td>\n",
       "      <td>0</td>\n",
       "      <td>0</td>\n",
       "      <td>0</td>\n",
       "      <td>1</td>\n",
       "      <td>0</td>\n",
       "      <td>0</td>\n",
       "      <td>1</td>\n",
       "    </tr>\n",
       "    <tr>\n",
       "      <th>223309</th>\n",
       "      <td>915</td>\n",
       "      <td>5501.0</td>\n",
       "      <td>3.0</td>\n",
       "      <td>1</td>\n",
       "      <td>0</td>\n",
       "      <td>0</td>\n",
       "      <td>0</td>\n",
       "      <td>0</td>\n",
       "      <td>0</td>\n",
       "      <td>0</td>\n",
       "      <td>...</td>\n",
       "      <td>0</td>\n",
       "      <td>1</td>\n",
       "      <td>0</td>\n",
       "      <td>0</td>\n",
       "      <td>0</td>\n",
       "      <td>0</td>\n",
       "      <td>0</td>\n",
       "      <td>0</td>\n",
       "      <td>0</td>\n",
       "      <td>2</td>\n",
       "    </tr>\n",
       "    <tr>\n",
       "      <th>613760</th>\n",
       "      <td>2275</td>\n",
       "      <td>1395.0</td>\n",
       "      <td>4.0</td>\n",
       "      <td>0</td>\n",
       "      <td>0</td>\n",
       "      <td>1</td>\n",
       "      <td>0</td>\n",
       "      <td>1</td>\n",
       "      <td>0</td>\n",
       "      <td>0</td>\n",
       "      <td>...</td>\n",
       "      <td>0</td>\n",
       "      <td>0</td>\n",
       "      <td>0</td>\n",
       "      <td>0</td>\n",
       "      <td>1</td>\n",
       "      <td>0</td>\n",
       "      <td>0</td>\n",
       "      <td>0</td>\n",
       "      <td>0</td>\n",
       "      <td>0</td>\n",
       "    </tr>\n",
       "    <tr>\n",
       "      <th>758367</th>\n",
       "      <td>2801</td>\n",
       "      <td>5502.0</td>\n",
       "      <td>4.0</td>\n",
       "      <td>0</td>\n",
       "      <td>1</td>\n",
       "      <td>0</td>\n",
       "      <td>0</td>\n",
       "      <td>0</td>\n",
       "      <td>0</td>\n",
       "      <td>0</td>\n",
       "      <td>...</td>\n",
       "      <td>0</td>\n",
       "      <td>1</td>\n",
       "      <td>0</td>\n",
       "      <td>0</td>\n",
       "      <td>0</td>\n",
       "      <td>0</td>\n",
       "      <td>0</td>\n",
       "      <td>0</td>\n",
       "      <td>0</td>\n",
       "      <td>3</td>\n",
       "    </tr>\n",
       "  </tbody>\n",
       "</table>\n",
       "<p>5 rows × 22 columns</p>\n",
       "</div>"
      ],
      "text/plain": [
       "        MovieID  UserID  Rating  Comedy  Drama  Action  Musical  Adventure  \\\n",
       "879429     3317  5785.0     4.0       1      1       0        0          0   \n",
       "220648      912  3792.0     5.0       0      1       0        0          0   \n",
       "223309      915  5501.0     3.0       1      0       0        0          0   \n",
       "613760     2275  1395.0     4.0       0      0       1        0          1   \n",
       "758367     2801  5502.0     4.0       0      1       0        0          0   \n",
       "\n",
       "        Children's  Animation  ...  Horror  Romance  Thriller  Mystery  \\\n",
       "879429           0          0  ...       0        0         0        0   \n",
       "220648           0          0  ...       0        1         0        0   \n",
       "223309           0          0  ...       0        1         0        0   \n",
       "613760           0          0  ...       0        0         0        0   \n",
       "758367           0          0  ...       0        1         0        0   \n",
       "\n",
       "        Sci-Fi  Western  War  Documentary  Fantasy  Cluster  \n",
       "879429       0        0    0            0        0        3  \n",
       "220648       0        0    1            0        0        1  \n",
       "223309       0        0    0            0        0        2  \n",
       "613760       1        0    0            0        0        0  \n",
       "758367       0        0    0            0        0        3  \n",
       "\n",
       "[5 rows x 22 columns]"
      ]
     },
     "execution_count": 36,
     "metadata": {},
     "output_type": "execute_result"
    }
   ],
   "source": [
    "df.head()"
   ]
  },
  {
   "cell_type": "raw",
   "id": "d9d0aaf9",
   "metadata": {},
   "source": [
    "when we merged the dataframe a single move is alloted to diffrent clusters to overcome this problem we will allot\n",
    "all the similar movies to a single cluster this occurs most of the times"
   ]
  },
  {
   "cell_type": "code",
   "execution_count": 37,
   "id": "48079b5c",
   "metadata": {
    "scrolled": true
   },
   "outputs": [
    {
     "data": {
      "text/plain": [
       "0    2197\n",
       "3    2129\n",
       "4    1975\n",
       "1    1962\n",
       "2    1736\n",
       "Name: Cluster, dtype: int64"
      ]
     },
     "execution_count": 37,
     "metadata": {},
     "output_type": "execute_result"
    }
   ],
   "source": [
    "df.Cluster.value_counts()"
   ]
  },
  {
   "cell_type": "raw",
   "id": "6fdc9819",
   "metadata": {},
   "source": [
    "list1 = []\n",
    "def abc(group):\n",
    "    x = pd.DataFrame(group)\n",
    "    xx = pd.DataFrame(x[\"Cluster\"].value_counts())\n",
    "    xxx = x.index\n",
    "    i = [x[\"MovieID\"][xxx[0]],int(xx.idxmax())] #idx max returns the max values for each columns\n",
    "    i.append(list1)"
   ]
  },
  {
   "cell_type": "raw",
   "id": "792824ac",
   "metadata": {},
   "source": [
    "df.groupby(\"MovieID\").apply(lambda a: abc(a))"
   ]
  },
  {
   "cell_type": "code",
   "execution_count": 38,
   "id": "630817b2",
   "metadata": {},
   "outputs": [
    {
     "data": {
      "text/html": [
       "<div>\n",
       "<style scoped>\n",
       "    .dataframe tbody tr th:only-of-type {\n",
       "        vertical-align: middle;\n",
       "    }\n",
       "\n",
       "    .dataframe tbody tr th {\n",
       "        vertical-align: top;\n",
       "    }\n",
       "\n",
       "    .dataframe thead th {\n",
       "        text-align: right;\n",
       "    }\n",
       "</style>\n",
       "<table border=\"1\" class=\"dataframe\">\n",
       "  <thead>\n",
       "    <tr style=\"text-align: right;\">\n",
       "      <th></th>\n",
       "      <th>0</th>\n",
       "      <th>1</th>\n",
       "    </tr>\n",
       "  </thead>\n",
       "  <tbody>\n",
       "    <tr>\n",
       "      <th>0</th>\n",
       "      <td>1</td>\n",
       "      <td>4</td>\n",
       "    </tr>\n",
       "    <tr>\n",
       "      <th>1</th>\n",
       "      <td>2</td>\n",
       "      <td>2</td>\n",
       "    </tr>\n",
       "    <tr>\n",
       "      <th>2</th>\n",
       "      <td>3</td>\n",
       "      <td>4</td>\n",
       "    </tr>\n",
       "    <tr>\n",
       "      <th>3</th>\n",
       "      <td>4</td>\n",
       "      <td>4</td>\n",
       "    </tr>\n",
       "    <tr>\n",
       "      <th>4</th>\n",
       "      <td>5</td>\n",
       "      <td>1</td>\n",
       "    </tr>\n",
       "  </tbody>\n",
       "</table>\n",
       "</div>"
      ],
      "text/plain": [
       "   0  1\n",
       "0  1  4\n",
       "1  2  2\n",
       "2  3  4\n",
       "3  4  4\n",
       "4  5  1"
      ]
     },
     "execution_count": 38,
     "metadata": {},
     "output_type": "execute_result"
    }
   ],
   "source": [
    "l1 = []\n",
    "def arc(ra):\n",
    "    a = pd.DataFrame(ra)\n",
    "    b = pd.DataFrame(a['Cluster'].value_counts())\n",
    "    d = a.index \n",
    "    c = [a['MovieID'][d[0]],int(b.idxmax())]\n",
    "    l1.append(c)\n",
    "df.groupby(\"MovieID\").apply(lambda x: arc(x))\n",
    "\n",
    "l1 = pd.DataFrame(l1)\n",
    "l1.head()"
   ]
  },
  {
   "cell_type": "code",
   "execution_count": 39,
   "id": "9625a279",
   "metadata": {},
   "outputs": [],
   "source": [
    "l1.rename(columns = {0:'MovieID',1:'Cluster'},inplace=True)"
   ]
  },
  {
   "cell_type": "code",
   "execution_count": 40,
   "id": "254cc6db",
   "metadata": {},
   "outputs": [
    {
     "data": {
      "text/plain": [
       "0    569\n",
       "3    547\n",
       "4    442\n",
       "1    380\n",
       "2    338\n",
       "Name: Cluster, dtype: int64"
      ]
     },
     "execution_count": 40,
     "metadata": {},
     "output_type": "execute_result"
    }
   ],
   "source": [
    "l1.Cluster.value_counts()"
   ]
  },
  {
   "cell_type": "code",
   "execution_count": 41,
   "id": "390af7cc",
   "metadata": {},
   "outputs": [
    {
     "data": {
      "text/html": [
       "<div>\n",
       "<style scoped>\n",
       "    .dataframe tbody tr th:only-of-type {\n",
       "        vertical-align: middle;\n",
       "    }\n",
       "\n",
       "    .dataframe tbody tr th {\n",
       "        vertical-align: top;\n",
       "    }\n",
       "\n",
       "    .dataframe thead th {\n",
       "        text-align: right;\n",
       "    }\n",
       "</style>\n",
       "<table border=\"1\" class=\"dataframe\">\n",
       "  <thead>\n",
       "    <tr style=\"text-align: right;\">\n",
       "      <th></th>\n",
       "      <th>MovieID</th>\n",
       "      <th>Cluster</th>\n",
       "    </tr>\n",
       "  </thead>\n",
       "  <tbody>\n",
       "    <tr>\n",
       "      <th>0</th>\n",
       "      <td>1</td>\n",
       "      <td>4</td>\n",
       "    </tr>\n",
       "    <tr>\n",
       "      <th>1</th>\n",
       "      <td>2</td>\n",
       "      <td>2</td>\n",
       "    </tr>\n",
       "    <tr>\n",
       "      <th>2</th>\n",
       "      <td>3</td>\n",
       "      <td>4</td>\n",
       "    </tr>\n",
       "    <tr>\n",
       "      <th>3</th>\n",
       "      <td>4</td>\n",
       "      <td>4</td>\n",
       "    </tr>\n",
       "    <tr>\n",
       "      <th>4</th>\n",
       "      <td>5</td>\n",
       "      <td>1</td>\n",
       "    </tr>\n",
       "    <tr>\n",
       "      <th>...</th>\n",
       "      <td>...</td>\n",
       "      <td>...</td>\n",
       "    </tr>\n",
       "    <tr>\n",
       "      <th>2271</th>\n",
       "      <td>3946</td>\n",
       "      <td>0</td>\n",
       "    </tr>\n",
       "    <tr>\n",
       "      <th>2272</th>\n",
       "      <td>3948</td>\n",
       "      <td>0</td>\n",
       "    </tr>\n",
       "    <tr>\n",
       "      <th>2273</th>\n",
       "      <td>3949</td>\n",
       "      <td>0</td>\n",
       "    </tr>\n",
       "    <tr>\n",
       "      <th>2274</th>\n",
       "      <td>3950</td>\n",
       "      <td>0</td>\n",
       "    </tr>\n",
       "    <tr>\n",
       "      <th>2275</th>\n",
       "      <td>3952</td>\n",
       "      <td>0</td>\n",
       "    </tr>\n",
       "  </tbody>\n",
       "</table>\n",
       "<p>2276 rows × 2 columns</p>\n",
       "</div>"
      ],
      "text/plain": [
       "      MovieID  Cluster\n",
       "0           1        4\n",
       "1           2        2\n",
       "2           3        4\n",
       "3           4        4\n",
       "4           5        1\n",
       "...       ...      ...\n",
       "2271     3946        0\n",
       "2272     3948        0\n",
       "2273     3949        0\n",
       "2274     3950        0\n",
       "2275     3952        0\n",
       "\n",
       "[2276 rows x 2 columns]"
      ]
     },
     "execution_count": 41,
     "metadata": {},
     "output_type": "execute_result"
    }
   ],
   "source": [
    "l1"
   ]
  },
  {
   "cell_type": "code",
   "execution_count": 42,
   "id": "d85c0b62",
   "metadata": {},
   "outputs": [
    {
     "data": {
      "text/plain": [
       "0"
      ]
     },
     "execution_count": 42,
     "metadata": {},
     "output_type": "execute_result"
    }
   ],
   "source": [
    "l1.duplicated().sum()"
   ]
  },
  {
   "cell_type": "code",
   "execution_count": 43,
   "id": "f5709d14",
   "metadata": {},
   "outputs": [],
   "source": [
    "l1.drop_duplicates(inplace=True)"
   ]
  },
  {
   "cell_type": "raw",
   "id": "b6970ea0",
   "metadata": {},
   "source": [
    "now we add the orignal data set with our df l1 with movie id"
   ]
  },
  {
   "cell_type": "code",
   "execution_count": 44,
   "id": "c82aee03",
   "metadata": {},
   "outputs": [],
   "source": [
    "movie1 = pd.read_csv(r\"C:\\Users\\91983\\Desktop\\PGA\\ml\\movie review\\movies data.csv\")"
   ]
  },
  {
   "cell_type": "code",
   "execution_count": 45,
   "id": "f40a77eb",
   "metadata": {},
   "outputs": [],
   "source": [
    "new_data = pd.merge(l1 , movie1 , how='inner', on='MovieID')"
   ]
  },
  {
   "cell_type": "code",
   "execution_count": 46,
   "id": "cec36af7",
   "metadata": {
    "scrolled": true
   },
   "outputs": [
    {
     "data": {
      "text/plain": [
       "MovieID       0\n",
       "Cluster       0\n",
       "Unnamed: 0    0\n",
       "Title         0\n",
       "Genres        0\n",
       "dtype: int64"
      ]
     },
     "execution_count": 46,
     "metadata": {},
     "output_type": "execute_result"
    }
   ],
   "source": [
    "new_data.isnull().sum()"
   ]
  },
  {
   "cell_type": "code",
   "execution_count": 47,
   "id": "5dcb463b",
   "metadata": {},
   "outputs": [
    {
     "data": {
      "text/html": [
       "<div>\n",
       "<style scoped>\n",
       "    .dataframe tbody tr th:only-of-type {\n",
       "        vertical-align: middle;\n",
       "    }\n",
       "\n",
       "    .dataframe tbody tr th {\n",
       "        vertical-align: top;\n",
       "    }\n",
       "\n",
       "    .dataframe thead th {\n",
       "        text-align: right;\n",
       "    }\n",
       "</style>\n",
       "<table border=\"1\" class=\"dataframe\">\n",
       "  <thead>\n",
       "    <tr style=\"text-align: right;\">\n",
       "      <th></th>\n",
       "      <th>MovieID</th>\n",
       "      <th>Cluster</th>\n",
       "      <th>Unnamed: 0</th>\n",
       "      <th>Title</th>\n",
       "      <th>Genres</th>\n",
       "    </tr>\n",
       "  </thead>\n",
       "  <tbody>\n",
       "    <tr>\n",
       "      <th>0</th>\n",
       "      <td>1</td>\n",
       "      <td>4</td>\n",
       "      <td>0</td>\n",
       "      <td>Toy Story (1995)</td>\n",
       "      <td>Animation|Children's|Comedy</td>\n",
       "    </tr>\n",
       "    <tr>\n",
       "      <th>1</th>\n",
       "      <td>2</td>\n",
       "      <td>2</td>\n",
       "      <td>1</td>\n",
       "      <td>Jumanji (1995)</td>\n",
       "      <td>Adventure|Children's|Fantasy</td>\n",
       "    </tr>\n",
       "    <tr>\n",
       "      <th>2</th>\n",
       "      <td>3</td>\n",
       "      <td>4</td>\n",
       "      <td>2</td>\n",
       "      <td>Grumpier Old Men (1995)</td>\n",
       "      <td>Comedy|Romance</td>\n",
       "    </tr>\n",
       "    <tr>\n",
       "      <th>3</th>\n",
       "      <td>4</td>\n",
       "      <td>4</td>\n",
       "      <td>3</td>\n",
       "      <td>Waiting to Exhale (1995)</td>\n",
       "      <td>Comedy|Drama</td>\n",
       "    </tr>\n",
       "    <tr>\n",
       "      <th>4</th>\n",
       "      <td>5</td>\n",
       "      <td>1</td>\n",
       "      <td>4</td>\n",
       "      <td>Father of the Bride Part II (1995)</td>\n",
       "      <td>Comedy</td>\n",
       "    </tr>\n",
       "    <tr>\n",
       "      <th>...</th>\n",
       "      <td>...</td>\n",
       "      <td>...</td>\n",
       "      <td>...</td>\n",
       "      <td>...</td>\n",
       "      <td>...</td>\n",
       "    </tr>\n",
       "    <tr>\n",
       "      <th>2271</th>\n",
       "      <td>3946</td>\n",
       "      <td>0</td>\n",
       "      <td>3876</td>\n",
       "      <td>Get Carter (2000)</td>\n",
       "      <td>Action|Drama|Thriller</td>\n",
       "    </tr>\n",
       "    <tr>\n",
       "      <th>2272</th>\n",
       "      <td>3948</td>\n",
       "      <td>0</td>\n",
       "      <td>3878</td>\n",
       "      <td>Meet the Parents (2000)</td>\n",
       "      <td>Comedy</td>\n",
       "    </tr>\n",
       "    <tr>\n",
       "      <th>2273</th>\n",
       "      <td>3949</td>\n",
       "      <td>0</td>\n",
       "      <td>3879</td>\n",
       "      <td>Requiem for a Dream (2000)</td>\n",
       "      <td>Drama</td>\n",
       "    </tr>\n",
       "    <tr>\n",
       "      <th>2274</th>\n",
       "      <td>3950</td>\n",
       "      <td>0</td>\n",
       "      <td>3880</td>\n",
       "      <td>Tigerland (2000)</td>\n",
       "      <td>Drama</td>\n",
       "    </tr>\n",
       "    <tr>\n",
       "      <th>2275</th>\n",
       "      <td>3952</td>\n",
       "      <td>0</td>\n",
       "      <td>3882</td>\n",
       "      <td>Contender, The (2000)</td>\n",
       "      <td>Drama|Thriller</td>\n",
       "    </tr>\n",
       "  </tbody>\n",
       "</table>\n",
       "<p>2276 rows × 5 columns</p>\n",
       "</div>"
      ],
      "text/plain": [
       "      MovieID  Cluster  Unnamed: 0                               Title  \\\n",
       "0           1        4           0                    Toy Story (1995)   \n",
       "1           2        2           1                      Jumanji (1995)   \n",
       "2           3        4           2             Grumpier Old Men (1995)   \n",
       "3           4        4           3            Waiting to Exhale (1995)   \n",
       "4           5        1           4  Father of the Bride Part II (1995)   \n",
       "...       ...      ...         ...                                 ...   \n",
       "2271     3946        0        3876                   Get Carter (2000)   \n",
       "2272     3948        0        3878             Meet the Parents (2000)   \n",
       "2273     3949        0        3879          Requiem for a Dream (2000)   \n",
       "2274     3950        0        3880                    Tigerland (2000)   \n",
       "2275     3952        0        3882               Contender, The (2000)   \n",
       "\n",
       "                            Genres  \n",
       "0      Animation|Children's|Comedy  \n",
       "1     Adventure|Children's|Fantasy  \n",
       "2                   Comedy|Romance  \n",
       "3                     Comedy|Drama  \n",
       "4                           Comedy  \n",
       "...                            ...  \n",
       "2271         Action|Drama|Thriller  \n",
       "2272                        Comedy  \n",
       "2273                         Drama  \n",
       "2274                         Drama  \n",
       "2275                Drama|Thriller  \n",
       "\n",
       "[2276 rows x 5 columns]"
      ]
     },
     "execution_count": 47,
     "metadata": {},
     "output_type": "execute_result"
    }
   ],
   "source": [
    "new_data"
   ]
  },
  {
   "cell_type": "code",
   "execution_count": 48,
   "id": "ec264187",
   "metadata": {},
   "outputs": [
    {
     "data": {
      "text/plain": [
       "0    569\n",
       "3    547\n",
       "4    442\n",
       "1    380\n",
       "2    338\n",
       "Name: Cluster, dtype: int64"
      ]
     },
     "execution_count": 48,
     "metadata": {},
     "output_type": "execute_result"
    }
   ],
   "source": [
    "new_data.Cluster.value_counts()"
   ]
  },
  {
   "cell_type": "code",
   "execution_count": 49,
   "id": "61f84107",
   "metadata": {},
   "outputs": [],
   "source": [
    "new_data.drop(\"Unnamed: 0\",axis=1,inplace=True)"
   ]
  },
  {
   "cell_type": "code",
   "execution_count": 50,
   "id": "d100771e",
   "metadata": {},
   "outputs": [
    {
     "name": "stdout",
     "output_type": "stream",
     "text": [
      "<class 'pandas.core.frame.DataFrame'>\n",
      "Int64Index: 2276 entries, 0 to 2275\n",
      "Data columns (total 4 columns):\n",
      " #   Column   Non-Null Count  Dtype \n",
      "---  ------   --------------  ----- \n",
      " 0   MovieID  2276 non-null   int64 \n",
      " 1   Cluster  2276 non-null   int64 \n",
      " 2   Title    2276 non-null   object\n",
      " 3   Genres   2276 non-null   object\n",
      "dtypes: int64(2), object(2)\n",
      "memory usage: 88.9+ KB\n"
     ]
    }
   ],
   "source": [
    "new_data.info()"
   ]
  },
  {
   "cell_type": "code",
   "execution_count": 51,
   "id": "7f2da665",
   "metadata": {},
   "outputs": [],
   "source": [
    "#This function select the cluster for a user according the the user choice\n",
    "def select_c():\n",
    "    global l\n",
    "    print('Select The Movies Id you would like to watch:')\n",
    "    l=[]\n",
    "    for i in range(10):\n",
    "        l.append(random.randint(0,1819))\n",
    "    for i in l:\n",
    "        print(new_data['MovieID'][i] , new_data['Title'][i], new_data['Genres'][i],sep='--->')\n",
    "    print('--------------------------------------------------------------------')\n",
    "    l = int(input())\n",
    "    l = new_data['Cluster'][new_data.MovieID == l]"
   ]
  },
  {
   "cell_type": "code",
   "execution_count": 52,
   "id": "543136c4",
   "metadata": {},
   "outputs": [],
   "source": [
    "# This is the main function which recommend you movies\n",
    "def main():\n",
    "    ans = False\n",
    "    while not ans:\n",
    "        select_c()\n",
    "        print(new_data['Title'][new_data.Cluster == int(l)].sample(n=10))\n",
    "        print('--------------------------------------------------------------------')\n",
    "        print('Do you like these movies(y/n)')\n",
    "        abc = input()\n",
    "        while ((abc =='y') or (abc == 'Y')):          \n",
    "            print(new_data['Title'][new_data.Cluster == int(l)].sample(n=10))\n",
    "            print('--------------------------------------------------------------------')\n",
    "            print('Want more!!!!(y/n)')\n",
    "            abc = input()\n",
    "            if ((abc =='N') or (abc == 'n')):\n",
    "                ans =True"
   ]
  },
  {
   "cell_type": "code",
   "execution_count": null,
   "id": "41eac431",
   "metadata": {
    "scrolled": true
   },
   "outputs": [
    {
     "name": "stdout",
     "output_type": "stream",
     "text": [
      "Select The Movies Id you would like to watch:\n",
      "332--->Village of the Damned (1995)--->Horror|Sci-Fi\n",
      "3028--->Taming of the Shrew, The (1967)--->Comedy\n",
      "3004--->Bachelor, The (1999)--->Comedy|Romance\n",
      "3005--->Bone Collector, The (1999)--->Thriller\n",
      "932--->Affair to Remember, An (1957)--->Romance\n",
      "532--->Serial Mom (1994)--->Comedy|Crime|Horror\n",
      "2377--->Lifeforce (1985)--->Horror|Sci-Fi\n",
      "2467--->Name of the Rose, The (1986)--->Mystery\n",
      "1281--->Great Dictator, The (1940)--->Comedy\n",
      "2531--->Battle for the Planet of the Apes (1973)--->Action|Sci-Fi\n",
      "--------------------------------------------------------------------\n",
      "332\n",
      "234        Mrs. Parker and the Vicious Circle (1994)\n",
      "1346    I Still Know What You Did Last Summer (1998)\n",
      "177                                  Only You (1994)\n",
      "748                     Raise the Red Lantern (1991)\n",
      "248                   Low Down Dirty Shame, A (1994)\n",
      "1150                      Black Cauldron, The (1985)\n",
      "494                               Rear Window (1954)\n",
      "1282                             Working Girl (1988)\n",
      "262                  Beverly Hillbillies, The (1993)\n",
      "563                              Chamber, The (1996)\n",
      "Name: Title, dtype: object\n",
      "--------------------------------------------------------------------\n",
      "Do you like these movies(y/n)\n",
      "n\n",
      "Select The Movies Id you would like to watch:\n",
      "1657--->Wonderland (1997)--->Documentary\n",
      "707--->Mulholland Falls (1996)--->Crime|Film-Noir|Thriller\n",
      "3095--->Grapes of Wrath, The (1940)--->Drama\n",
      "1616--->Peacemaker, The (1997)--->Action|Thriller|War\n",
      "2053--->Honey, I Blew Up the Kid (1992)--->Children's|Comedy|Sci-Fi\n",
      "2255--->Young Doctors in Love (1982)--->Comedy\n",
      "1206--->Clockwork Orange, A (1971)--->Sci-Fi\n",
      "2560--->Ravenous (1999)--->Drama|Horror\n",
      "1217--->Ran (1985)--->Drama|War\n",
      "577--->Andre (1994)--->Adventure|Children's\n",
      "--------------------------------------------------------------------\n",
      "707\n",
      "733                               Deer Hunter, The (1978)\n",
      "144                                   Exit to Eden (1994)\n",
      "1032                                Borrowers, The (1997)\n",
      "420     Wallace & Gromit: The Best of Aardman Animatio...\n",
      "1199                                    Swing Kids (1993)\n",
      "566                                  Love Bug, The (1969)\n",
      "423                              Cold Comfort Farm (1995)\n",
      "541                   Mr. Smith Goes to Washington (1939)\n",
      "272     City Slickers II: The Legend of Curly's Gold (...\n",
      "896                                          Buddy (1997)\n",
      "Name: Title, dtype: object\n",
      "--------------------------------------------------------------------\n",
      "Do you like these movies(y/n)\n",
      "n\n",
      "Select The Movies Id you would like to watch:\n",
      "512--->Robert A. Heinlein's The Puppet Masters (1994)--->Horror|Sci-Fi\n",
      "1401--->Ghosts of Mississippi (1996)--->Drama\n",
      "2063--->Seventh Heaven (Le Septième ciel) (1997)--->Drama|Romance\n",
      "903--->Vertigo (1958)--->Mystery|Thriller\n",
      "2790--->Final Conflict, The (a.k.a. Omen III: The Final Conflict) (1981)--->Horror\n",
      "474--->In the Line of Fire (1993)--->Action|Thriller\n",
      "2716--->Ghostbusters (1984)--->Comedy|Horror\n",
      "2064--->Roger & Me (1989)--->Comedy|Documentary\n",
      "2850--->Public Access (1993)--->Drama|Thriller\n",
      "2406--->Romancing the Stone (1984)--->Action|Adventure|Comedy|Romance\n",
      "--------------------------------------------------------------------\n",
      "474\n",
      "164              Legends of the Fall (1994)\n",
      "727               Better Off Dead... (1985)\n",
      "523                  Band Wagon, The (1953)\n",
      "425                          Twister (1996)\n",
      "808    Star Trek: The Motion Picture (1979)\n",
      "339                       Serial Mom (1994)\n",
      "181       Pyromaniac's Love Story, A (1995)\n",
      "195                         Stargate (1994)\n",
      "165                      Major Payne (1994)\n",
      "923                    Air Force One (1997)\n",
      "Name: Title, dtype: object\n",
      "--------------------------------------------------------------------\n",
      "Do you like these movies(y/n)\n",
      "n\n",
      "Select The Movies Id you would like to watch:\n",
      "1391--->Mars Attacks! (1996)--->Action|Comedy|Sci-Fi|War\n",
      "592--->Batman (1989)--->Action|Adventure|Crime|Drama\n",
      "230--->Dolores Claiborne (1994)--->Drama|Thriller\n",
      "2362--->Glen or Glenda (1953)--->Drama\n",
      "2794--->European Vacation (1985)--->Comedy\n",
      "1290--->Some Kind of Wonderful (1987)--->Drama|Romance\n",
      "1101--->Top Gun (1986)--->Action|Romance\n",
      "1179--->Grifters, The (1990)--->Crime|Drama|Film-Noir\n",
      "851--->Basquiat (1996)--->Drama\n",
      "2318--->Happiness (1998)--->Comedy\n",
      "--------------------------------------------------------------------\n",
      "851\n",
      "701     Once Upon a Time in America (1984)\n",
      "240                 River Wild, The (1994)\n",
      "782              Body Snatcher, The (1945)\n",
      "208                       Tommy Boy (1995)\n",
      "919                         Hoodlum (1997)\n",
      "823                        Jaws 3-D (1983)\n",
      "878             Grosse Pointe Blank (1997)\n",
      "107                       Jury Duty (1995)\n",
      "952                        Phantoms (1998)\n",
      "442    Hunchback of Notre Dame, The (1996)\n",
      "Name: Title, dtype: object\n",
      "--------------------------------------------------------------------\n",
      "Do you like these movies(y/n)\n",
      "n\n",
      "Select The Movies Id you would like to watch:\n",
      "2494--->Last Days, The (1998)--->Documentary\n",
      "1968--->Breakfast Club, The (1985)--->Comedy|Drama\n",
      "325--->National Lampoon's Senior Trip (1995)--->Comedy\n",
      "1734--->My Life in Pink (Ma vie en rose) (1997)--->Comedy|Drama\n",
      "799--->Frighteners, The (1996)--->Comedy|Horror\n",
      "2454--->Fly, The (1958)--->Horror|Sci-Fi\n",
      "474--->In the Line of Fire (1993)--->Action|Thriller\n",
      "1940--->Gentleman's Agreement (1947)--->Drama\n",
      "155--->Beyond Rangoon (1995)--->Drama|War\n",
      "6--->Heat (1995)--->Action|Crime|Thriller\n",
      "--------------------------------------------------------------------\n",
      "6\n",
      "288               Free Willy (1993)\n",
      "295     Hot Shots! Part Deux (1993)\n",
      "195                 Stargate (1994)\n",
      "602                 Swingers (1996)\n",
      "354    Three Musketeers, The (1993)\n",
      "389             Carried Away (1996)\n",
      "827                 Sneakers (1992)\n",
      "305            Jurassic Park (1993)\n",
      "425                  Twister (1996)\n",
      "482      Trigger Effect, The (1996)\n",
      "Name: Title, dtype: object\n",
      "--------------------------------------------------------------------\n",
      "Do you like these movies(y/n)\n"
     ]
    }
   ],
   "source": [
    "main()"
   ]
  }
 ],
 "metadata": {
  "kernelspec": {
   "display_name": "Python 3 (ipykernel)",
   "language": "python",
   "name": "python3"
  },
  "language_info": {
   "codemirror_mode": {
    "name": "ipython",
    "version": 3
   },
   "file_extension": ".py",
   "mimetype": "text/x-python",
   "name": "python",
   "nbconvert_exporter": "python",
   "pygments_lexer": "ipython3",
   "version": "3.9.7"
  }
 },
 "nbformat": 4,
 "nbformat_minor": 5
}
